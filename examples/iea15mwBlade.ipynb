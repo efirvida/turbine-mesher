{
 "cells": [
  {
   "cell_type": "markdown",
   "metadata": {},
   "source": [
    "# Implementation\n",
    "\n",
    "Author: Eduardo Miguel Firvida Donestevez\n",
    "\n",
    "In this tutorial, you will learn how to:\n",
    "\n",
    "- Static deformation of IEA 15MW Offshore Reference Turbine\n"
   ]
  },
  {
   "cell_type": "code",
   "execution_count": 2,
   "metadata": {},
   "outputs": [
    {
     "name": "stdout",
     "output_type": "stream",
     "text": [
      "Obtaining file:///turbine_mesher\n",
      "  Installing build dependencies ... \u001b[?25ldone\n",
      "\u001b[?25h  Checking if build backend supports build_editable ... \u001b[?25ldone\n",
      "\u001b[?25h  Getting requirements to build editable ... \u001b[?25ldone\n",
      "\u001b[?25h  Installing backend dependencies ... \u001b[?25ldone\n",
      "\u001b[?25h  Preparing editable metadata (pyproject.toml) ... \u001b[?25ldone\n",
      "\u001b[?25hCollecting gmsh>=4.13.1 (from turbine-mesher==0.1.0)\n",
      "  Downloading gmsh-4.13.1-py2.py3-none-manylinux_2_24_x86_64.whl.metadata (1.7 kB)\n",
      "Requirement already satisfied: meshio>=5.3.5 in /dolfinx-env/lib/python3.12/site-packages (from turbine-mesher==0.1.0) (5.3.5)\n",
      "Requirement already satisfied: pynumad>=1.0.0 in /dolfinx-env/lib/python3.12/site-packages (from turbine-mesher==0.1.0) (1.0.0)\n",
      "Requirement already satisfied: pyvista>=0.44.1 in /dolfinx-env/lib/python3.12/site-packages (from pyvista[all]>=0.44.1->turbine-mesher==0.1.0) (0.44.1)\n",
      "Requirement already satisfied: trimesh>=4.5.2 in /dolfinx-env/lib/python3.12/site-packages (from turbine-mesher==0.1.0) (4.5.2)\n",
      "Requirement already satisfied: numpy>=1.20.0 in /dolfinx-env/lib/python3.12/site-packages (from meshio>=5.3.5->turbine-mesher==0.1.0) (2.0.2)\n",
      "Requirement already satisfied: rich in /dolfinx-env/lib/python3.12/site-packages (from meshio>=5.3.5->turbine-mesher==0.1.0) (13.9.4)\n",
      "Requirement already satisfied: scipy in /dolfinx-env/lib/python3.12/site-packages (from pynumad>=1.0.0->turbine-mesher==0.1.0) (1.14.1)\n",
      "Requirement already satisfied: pandas in /dolfinx-env/lib/python3.12/site-packages (from pynumad>=1.0.0->turbine-mesher==0.1.0) (2.2.3)\n",
      "Requirement already satisfied: matplotlib in /dolfinx-env/lib/python3.12/site-packages (from pynumad>=1.0.0->turbine-mesher==0.1.0) (3.9.2)\n",
      "Requirement already satisfied: pyyaml in /dolfinx-env/lib/python3.12/site-packages (from pynumad>=1.0.0->turbine-mesher==0.1.0) (6.0.2)\n",
      "Requirement already satisfied: plotly in /dolfinx-env/lib/python3.12/site-packages (from pynumad>=1.0.0->turbine-mesher==0.1.0) (5.24.1)\n",
      "Requirement already satisfied: openpyxl in /dolfinx-env/lib/python3.12/site-packages (from pynumad>=1.0.0->turbine-mesher==0.1.0) (3.1.5)\n",
      "Requirement already satisfied: pillow in /dolfinx-env/lib/python3.12/site-packages (from pyvista>=0.44.1->pyvista[all]>=0.44.1->turbine-mesher==0.1.0) (11.0.0)\n",
      "Requirement already satisfied: pooch in /dolfinx-env/lib/python3.12/site-packages (from pyvista>=0.44.1->pyvista[all]>=0.44.1->turbine-mesher==0.1.0) (1.8.2)\n",
      "Requirement already satisfied: scooby>=0.5.1 in /dolfinx-env/lib/python3.12/site-packages (from pyvista>=0.44.1->pyvista[all]>=0.44.1->turbine-mesher==0.1.0) (0.10.0)\n",
      "Requirement already satisfied: vtk in /dolfinx-env/lib/python3.12/site-packages (from pyvista>=0.44.1->pyvista[all]>=0.44.1->turbine-mesher==0.1.0) (9.4.0)\n",
      "Requirement already satisfied: typing-extensions in /dolfinx-env/lib/python3.12/site-packages (from pyvista>=0.44.1->pyvista[all]>=0.44.1->turbine-mesher==0.1.0) (4.12.2)\n",
      "Requirement already satisfied: contourpy>=1.0.1 in /dolfinx-env/lib/python3.12/site-packages (from matplotlib->pynumad>=1.0.0->turbine-mesher==0.1.0) (1.3.1)\n",
      "Requirement already satisfied: cycler>=0.10 in /dolfinx-env/lib/python3.12/site-packages (from matplotlib->pynumad>=1.0.0->turbine-mesher==0.1.0) (0.12.1)\n",
      "Requirement already satisfied: fonttools>=4.22.0 in /dolfinx-env/lib/python3.12/site-packages (from matplotlib->pynumad>=1.0.0->turbine-mesher==0.1.0) (4.55.0)\n",
      "Requirement already satisfied: kiwisolver>=1.3.1 in /dolfinx-env/lib/python3.12/site-packages (from matplotlib->pynumad>=1.0.0->turbine-mesher==0.1.0) (1.4.7)\n",
      "Requirement already satisfied: packaging>=20.0 in /dolfinx-env/lib/python3.12/site-packages (from matplotlib->pynumad>=1.0.0->turbine-mesher==0.1.0) (24.1)\n",
      "Requirement already satisfied: pyparsing>=2.3.1 in /dolfinx-env/lib/python3.12/site-packages (from matplotlib->pynumad>=1.0.0->turbine-mesher==0.1.0) (3.2.0)\n",
      "Requirement already satisfied: python-dateutil>=2.7 in /dolfinx-env/lib/python3.12/site-packages (from matplotlib->pynumad>=1.0.0->turbine-mesher==0.1.0) (2.9.0.post0)\n",
      "Requirement already satisfied: et-xmlfile in /dolfinx-env/lib/python3.12/site-packages (from openpyxl->pynumad>=1.0.0->turbine-mesher==0.1.0) (2.0.0)\n",
      "Requirement already satisfied: pytz>=2020.1 in /dolfinx-env/lib/python3.12/site-packages (from pandas->pynumad>=1.0.0->turbine-mesher==0.1.0) (2024.2)\n",
      "Requirement already satisfied: tzdata>=2022.7 in /dolfinx-env/lib/python3.12/site-packages (from pandas->pynumad>=1.0.0->turbine-mesher==0.1.0) (2024.2)\n",
      "Requirement already satisfied: tenacity>=6.2.0 in /dolfinx-env/lib/python3.12/site-packages (from plotly->pynumad>=1.0.0->turbine-mesher==0.1.0) (9.0.0)\n",
      "Requirement already satisfied: platformdirs>=2.5.0 in /dolfinx-env/lib/python3.12/site-packages (from pooch->pyvista>=0.44.1->pyvista[all]>=0.44.1->turbine-mesher==0.1.0) (4.3.6)\n",
      "Requirement already satisfied: requests>=2.19.0 in /dolfinx-env/lib/python3.12/site-packages (from pooch->pyvista>=0.44.1->pyvista[all]>=0.44.1->turbine-mesher==0.1.0) (2.32.3)\n",
      "Requirement already satisfied: cmocean in /dolfinx-env/lib/python3.12/site-packages (from pyvista>=0.44.1->pyvista[all]>=0.44.1->turbine-mesher==0.1.0) (4.0.3)\n",
      "Requirement already satisfied: colorcet in /dolfinx-env/lib/python3.12/site-packages (from pyvista>=0.44.1->pyvista[all]>=0.44.1->turbine-mesher==0.1.0) (3.1.0)\n",
      "Requirement already satisfied: imageio in /dolfinx-env/lib/python3.12/site-packages (from pyvista>=0.44.1->pyvista[all]>=0.44.1->turbine-mesher==0.1.0) (2.36.0)\n",
      "Requirement already satisfied: ipywidgets in /dolfinx-env/lib/python3.12/site-packages (from pyvista>=0.44.1->pyvista[all]>=0.44.1->turbine-mesher==0.1.0) (7.8.5)\n",
      "Requirement already satisfied: jupyter-server-proxy in /dolfinx-env/lib/python3.12/site-packages (from pyvista>=0.44.1->pyvista[all]>=0.44.1->turbine-mesher==0.1.0) (4.4.0)\n",
      "Requirement already satisfied: nest-asyncio in /dolfinx-env/lib/python3.12/site-packages (from pyvista>=0.44.1->pyvista[all]>=0.44.1->turbine-mesher==0.1.0) (1.6.0)\n",
      "Requirement already satisfied: trame>=2.5.2 in /dolfinx-env/lib/python3.12/site-packages (from pyvista>=0.44.1->pyvista[all]>=0.44.1->turbine-mesher==0.1.0) (3.7.0)\n",
      "Requirement already satisfied: trame-client>=2.12.7 in /dolfinx-env/lib/python3.12/site-packages (from pyvista>=0.44.1->pyvista[all]>=0.44.1->turbine-mesher==0.1.0) (3.5.0)\n",
      "Requirement already satisfied: trame-server>=2.11.7 in /dolfinx-env/lib/python3.12/site-packages (from pyvista>=0.44.1->pyvista[all]>=0.44.1->turbine-mesher==0.1.0) (3.2.3)\n",
      "Requirement already satisfied: trame-vtk>=2.5.8 in /dolfinx-env/lib/python3.12/site-packages (from pyvista>=0.44.1->pyvista[all]>=0.44.1->turbine-mesher==0.1.0) (2.8.12)\n",
      "Requirement already satisfied: trame-vuetify>=2.3.1 in /dolfinx-env/lib/python3.12/site-packages (from pyvista>=0.44.1->pyvista[all]>=0.44.1->turbine-mesher==0.1.0) (2.7.2)\n",
      "Requirement already satisfied: markdown-it-py>=2.2.0 in /dolfinx-env/lib/python3.12/site-packages (from rich->meshio>=5.3.5->turbine-mesher==0.1.0) (3.0.0)\n",
      "Requirement already satisfied: pygments<3.0.0,>=2.13.0 in /dolfinx-env/lib/python3.12/site-packages (from rich->meshio>=5.3.5->turbine-mesher==0.1.0) (2.18.0)\n",
      "Requirement already satisfied: mdurl~=0.1 in /dolfinx-env/lib/python3.12/site-packages (from markdown-it-py>=2.2.0->rich->meshio>=5.3.5->turbine-mesher==0.1.0) (0.1.2)\n",
      "Requirement already satisfied: six>=1.5 in /dolfinx-env/lib/python3.12/site-packages (from python-dateutil>=2.7->matplotlib->pynumad>=1.0.0->turbine-mesher==0.1.0) (1.16.0)\n",
      "Requirement already satisfied: charset-normalizer<4,>=2 in /dolfinx-env/lib/python3.12/site-packages (from requests>=2.19.0->pooch->pyvista>=0.44.1->pyvista[all]>=0.44.1->turbine-mesher==0.1.0) (3.4.0)\n",
      "Requirement already satisfied: idna<4,>=2.5 in /dolfinx-env/lib/python3.12/site-packages (from requests>=2.19.0->pooch->pyvista>=0.44.1->pyvista[all]>=0.44.1->turbine-mesher==0.1.0) (3.10)\n",
      "Requirement already satisfied: urllib3<3,>=1.21.1 in /dolfinx-env/lib/python3.12/site-packages (from requests>=2.19.0->pooch->pyvista>=0.44.1->pyvista[all]>=0.44.1->turbine-mesher==0.1.0) (2.2.3)\n",
      "Requirement already satisfied: certifi>=2017.4.17 in /dolfinx-env/lib/python3.12/site-packages (from requests>=2.19.0->pooch->pyvista>=0.44.1->pyvista[all]>=0.44.1->turbine-mesher==0.1.0) (2024.8.30)\n",
      "Requirement already satisfied: wslink>=2.1.3 in /dolfinx-env/lib/python3.12/site-packages (from trame>=2.5.2->pyvista>=0.44.1->pyvista[all]>=0.44.1->turbine-mesher==0.1.0) (2.2.1)\n",
      "Requirement already satisfied: more-itertools in /dolfinx-env/lib/python3.12/site-packages (from trame-server>=2.11.7->pyvista>=0.44.1->pyvista[all]>=0.44.1->turbine-mesher==0.1.0) (10.5.0)\n",
      "Requirement already satisfied: comm>=0.1.3 in /dolfinx-env/lib/python3.12/site-packages (from ipywidgets->pyvista>=0.44.1->pyvista[all]>=0.44.1->turbine-mesher==0.1.0) (0.2.2)\n",
      "Requirement already satisfied: ipython-genutils~=0.2.0 in /dolfinx-env/lib/python3.12/site-packages (from ipywidgets->pyvista>=0.44.1->pyvista[all]>=0.44.1->turbine-mesher==0.1.0) (0.2.0)\n",
      "Requirement already satisfied: traitlets>=4.3.1 in /dolfinx-env/lib/python3.12/site-packages (from ipywidgets->pyvista>=0.44.1->pyvista[all]>=0.44.1->turbine-mesher==0.1.0) (5.14.3)\n",
      "Requirement already satisfied: widgetsnbextension~=3.6.10 in /dolfinx-env/lib/python3.12/site-packages (from ipywidgets->pyvista>=0.44.1->pyvista[all]>=0.44.1->turbine-mesher==0.1.0) (3.6.10)\n",
      "Requirement already satisfied: ipython>=4.0.0 in /dolfinx-env/lib/python3.12/site-packages (from ipywidgets->pyvista>=0.44.1->pyvista[all]>=0.44.1->turbine-mesher==0.1.0) (8.28.0)\n",
      "Requirement already satisfied: jupyterlab-widgets<3,>=1.0.0 in /dolfinx-env/lib/python3.12/site-packages (from ipywidgets->pyvista>=0.44.1->pyvista[all]>=0.44.1->turbine-mesher==0.1.0) (1.1.11)\n",
      "Requirement already satisfied: aiohttp in /dolfinx-env/lib/python3.12/site-packages (from jupyter-server-proxy->pyvista>=0.44.1->pyvista[all]>=0.44.1->turbine-mesher==0.1.0) (3.11.7)\n",
      "Requirement already satisfied: jupyter-server>=1.24.0 in /dolfinx-env/lib/python3.12/site-packages (from jupyter-server-proxy->pyvista>=0.44.1->pyvista[all]>=0.44.1->turbine-mesher==0.1.0) (2.14.2)\n",
      "Requirement already satisfied: simpervisor>=1.0.0 in /dolfinx-env/lib/python3.12/site-packages (from jupyter-server-proxy->pyvista>=0.44.1->pyvista[all]>=0.44.1->turbine-mesher==0.1.0) (1.0.0)\n",
      "Requirement already satisfied: tornado>=6.1.0 in /dolfinx-env/lib/python3.12/site-packages (from jupyter-server-proxy->pyvista>=0.44.1->pyvista[all]>=0.44.1->turbine-mesher==0.1.0) (6.4.2)\n",
      "Requirement already satisfied: decorator in /dolfinx-env/lib/python3.12/site-packages (from ipython>=4.0.0->ipywidgets->pyvista>=0.44.1->pyvista[all]>=0.44.1->turbine-mesher==0.1.0) (5.1.1)\n",
      "Requirement already satisfied: jedi>=0.16 in /dolfinx-env/lib/python3.12/site-packages (from ipython>=4.0.0->ipywidgets->pyvista>=0.44.1->pyvista[all]>=0.44.1->turbine-mesher==0.1.0) (0.19.1)\n",
      "Requirement already satisfied: matplotlib-inline in /dolfinx-env/lib/python3.12/site-packages (from ipython>=4.0.0->ipywidgets->pyvista>=0.44.1->pyvista[all]>=0.44.1->turbine-mesher==0.1.0) (0.1.7)\n",
      "Requirement already satisfied: prompt-toolkit<3.1.0,>=3.0.41 in /dolfinx-env/lib/python3.12/site-packages (from ipython>=4.0.0->ipywidgets->pyvista>=0.44.1->pyvista[all]>=0.44.1->turbine-mesher==0.1.0) (3.0.48)\n",
      "Requirement already satisfied: stack-data in /dolfinx-env/lib/python3.12/site-packages (from ipython>=4.0.0->ipywidgets->pyvista>=0.44.1->pyvista[all]>=0.44.1->turbine-mesher==0.1.0) (0.6.3)\n",
      "Requirement already satisfied: pexpect>4.3 in /dolfinx-env/lib/python3.12/site-packages (from ipython>=4.0.0->ipywidgets->pyvista>=0.44.1->pyvista[all]>=0.44.1->turbine-mesher==0.1.0) (4.9.0)\n",
      "Requirement already satisfied: anyio>=3.1.0 in /dolfinx-env/lib/python3.12/site-packages (from jupyter-server>=1.24.0->jupyter-server-proxy->pyvista>=0.44.1->pyvista[all]>=0.44.1->turbine-mesher==0.1.0) (4.6.2.post1)\n",
      "Requirement already satisfied: argon2-cffi>=21.1 in /dolfinx-env/lib/python3.12/site-packages (from jupyter-server>=1.24.0->jupyter-server-proxy->pyvista>=0.44.1->pyvista[all]>=0.44.1->turbine-mesher==0.1.0) (23.1.0)\n",
      "Requirement already satisfied: jinja2>=3.0.3 in /dolfinx-env/lib/python3.12/site-packages (from jupyter-server>=1.24.0->jupyter-server-proxy->pyvista>=0.44.1->pyvista[all]>=0.44.1->turbine-mesher==0.1.0) (3.1.4)\n",
      "Requirement already satisfied: jupyter-client>=7.4.4 in /dolfinx-env/lib/python3.12/site-packages (from jupyter-server>=1.24.0->jupyter-server-proxy->pyvista>=0.44.1->pyvista[all]>=0.44.1->turbine-mesher==0.1.0) (8.6.3)\n",
      "Requirement already satisfied: jupyter-core!=5.0.*,>=4.12 in /dolfinx-env/lib/python3.12/site-packages (from jupyter-server>=1.24.0->jupyter-server-proxy->pyvista>=0.44.1->pyvista[all]>=0.44.1->turbine-mesher==0.1.0) (5.7.2)\n",
      "Requirement already satisfied: jupyter-events>=0.9.0 in /dolfinx-env/lib/python3.12/site-packages (from jupyter-server>=1.24.0->jupyter-server-proxy->pyvista>=0.44.1->pyvista[all]>=0.44.1->turbine-mesher==0.1.0) (0.10.0)\n",
      "Requirement already satisfied: jupyter-server-terminals>=0.4.4 in /dolfinx-env/lib/python3.12/site-packages (from jupyter-server>=1.24.0->jupyter-server-proxy->pyvista>=0.44.1->pyvista[all]>=0.44.1->turbine-mesher==0.1.0) (0.5.3)\n",
      "Requirement already satisfied: nbconvert>=6.4.4 in /dolfinx-env/lib/python3.12/site-packages (from jupyter-server>=1.24.0->jupyter-server-proxy->pyvista>=0.44.1->pyvista[all]>=0.44.1->turbine-mesher==0.1.0) (7.16.4)\n",
      "Requirement already satisfied: nbformat>=5.3.0 in /dolfinx-env/lib/python3.12/site-packages (from jupyter-server>=1.24.0->jupyter-server-proxy->pyvista>=0.44.1->pyvista[all]>=0.44.1->turbine-mesher==0.1.0) (5.10.4)\n",
      "Requirement already satisfied: overrides>=5.0 in /dolfinx-env/lib/python3.12/site-packages (from jupyter-server>=1.24.0->jupyter-server-proxy->pyvista>=0.44.1->pyvista[all]>=0.44.1->turbine-mesher==0.1.0) (7.7.0)\n",
      "Requirement already satisfied: prometheus-client>=0.9 in /dolfinx-env/lib/python3.12/site-packages (from jupyter-server>=1.24.0->jupyter-server-proxy->pyvista>=0.44.1->pyvista[all]>=0.44.1->turbine-mesher==0.1.0) (0.21.0)\n",
      "Requirement already satisfied: pyzmq>=24 in /dolfinx-env/lib/python3.12/site-packages (from jupyter-server>=1.24.0->jupyter-server-proxy->pyvista>=0.44.1->pyvista[all]>=0.44.1->turbine-mesher==0.1.0) (26.2.0)\n",
      "Requirement already satisfied: send2trash>=1.8.2 in /dolfinx-env/lib/python3.12/site-packages (from jupyter-server>=1.24.0->jupyter-server-proxy->pyvista>=0.44.1->pyvista[all]>=0.44.1->turbine-mesher==0.1.0) (1.8.3)\n",
      "Requirement already satisfied: terminado>=0.8.3 in /dolfinx-env/lib/python3.12/site-packages (from jupyter-server>=1.24.0->jupyter-server-proxy->pyvista>=0.44.1->pyvista[all]>=0.44.1->turbine-mesher==0.1.0) (0.18.1)\n",
      "Requirement already satisfied: websocket-client>=1.7 in /dolfinx-env/lib/python3.12/site-packages (from jupyter-server>=1.24.0->jupyter-server-proxy->pyvista>=0.44.1->pyvista[all]>=0.44.1->turbine-mesher==0.1.0) (1.8.0)\n",
      "Requirement already satisfied: notebook>=4.4.1 in /dolfinx-env/lib/python3.12/site-packages (from widgetsnbextension~=3.6.10->ipywidgets->pyvista>=0.44.1->pyvista[all]>=0.44.1->turbine-mesher==0.1.0) (7.2.2)\n",
      "Requirement already satisfied: msgpack<2,>=1 in /dolfinx-env/lib/python3.12/site-packages (from wslink>=2.1.3->trame>=2.5.2->pyvista>=0.44.1->pyvista[all]>=0.44.1->turbine-mesher==0.1.0) (1.1.0)\n",
      "Requirement already satisfied: aiohappyeyeballs>=2.3.0 in /dolfinx-env/lib/python3.12/site-packages (from aiohttp->jupyter-server-proxy->pyvista>=0.44.1->pyvista[all]>=0.44.1->turbine-mesher==0.1.0) (2.4.3)\n",
      "Requirement already satisfied: aiosignal>=1.1.2 in /dolfinx-env/lib/python3.12/site-packages (from aiohttp->jupyter-server-proxy->pyvista>=0.44.1->pyvista[all]>=0.44.1->turbine-mesher==0.1.0) (1.3.1)\n",
      "Requirement already satisfied: attrs>=17.3.0 in /dolfinx-env/lib/python3.12/site-packages (from aiohttp->jupyter-server-proxy->pyvista>=0.44.1->pyvista[all]>=0.44.1->turbine-mesher==0.1.0) (24.2.0)\n",
      "Requirement already satisfied: frozenlist>=1.1.1 in /dolfinx-env/lib/python3.12/site-packages (from aiohttp->jupyter-server-proxy->pyvista>=0.44.1->pyvista[all]>=0.44.1->turbine-mesher==0.1.0) (1.5.0)\n",
      "Requirement already satisfied: multidict<7.0,>=4.5 in /dolfinx-env/lib/python3.12/site-packages (from aiohttp->jupyter-server-proxy->pyvista>=0.44.1->pyvista[all]>=0.44.1->turbine-mesher==0.1.0) (6.1.0)\n",
      "Requirement already satisfied: propcache>=0.2.0 in /dolfinx-env/lib/python3.12/site-packages (from aiohttp->jupyter-server-proxy->pyvista>=0.44.1->pyvista[all]>=0.44.1->turbine-mesher==0.1.0) (0.2.0)\n",
      "Requirement already satisfied: yarl<2.0,>=1.17.0 in /dolfinx-env/lib/python3.12/site-packages (from aiohttp->jupyter-server-proxy->pyvista>=0.44.1->pyvista[all]>=0.44.1->turbine-mesher==0.1.0) (1.18.0)\n",
      "Requirement already satisfied: sniffio>=1.1 in /dolfinx-env/lib/python3.12/site-packages (from anyio>=3.1.0->jupyter-server>=1.24.0->jupyter-server-proxy->pyvista>=0.44.1->pyvista[all]>=0.44.1->turbine-mesher==0.1.0) (1.3.1)\n",
      "Requirement already satisfied: argon2-cffi-bindings in /dolfinx-env/lib/python3.12/site-packages (from argon2-cffi>=21.1->jupyter-server>=1.24.0->jupyter-server-proxy->pyvista>=0.44.1->pyvista[all]>=0.44.1->turbine-mesher==0.1.0) (21.2.0)\n",
      "Requirement already satisfied: parso<0.9.0,>=0.8.3 in /dolfinx-env/lib/python3.12/site-packages (from jedi>=0.16->ipython>=4.0.0->ipywidgets->pyvista>=0.44.1->pyvista[all]>=0.44.1->turbine-mesher==0.1.0) (0.8.4)\n",
      "Requirement already satisfied: MarkupSafe>=2.0 in /dolfinx-env/lib/python3.12/site-packages (from jinja2>=3.0.3->jupyter-server>=1.24.0->jupyter-server-proxy->pyvista>=0.44.1->pyvista[all]>=0.44.1->turbine-mesher==0.1.0) (3.0.2)\n",
      "Requirement already satisfied: jsonschema>=4.18.0 in /dolfinx-env/lib/python3.12/site-packages (from jsonschema[format-nongpl]>=4.18.0->jupyter-events>=0.9.0->jupyter-server>=1.24.0->jupyter-server-proxy->pyvista>=0.44.1->pyvista[all]>=0.44.1->turbine-mesher==0.1.0) (4.23.0)\n",
      "Requirement already satisfied: python-json-logger>=2.0.4 in /dolfinx-env/lib/python3.12/site-packages (from jupyter-events>=0.9.0->jupyter-server>=1.24.0->jupyter-server-proxy->pyvista>=0.44.1->pyvista[all]>=0.44.1->turbine-mesher==0.1.0) (2.0.7)\n",
      "Requirement already satisfied: referencing in /dolfinx-env/lib/python3.12/site-packages (from jupyter-events>=0.9.0->jupyter-server>=1.24.0->jupyter-server-proxy->pyvista>=0.44.1->pyvista[all]>=0.44.1->turbine-mesher==0.1.0) (0.35.1)\n",
      "Requirement already satisfied: rfc3339-validator in /dolfinx-env/lib/python3.12/site-packages (from jupyter-events>=0.9.0->jupyter-server>=1.24.0->jupyter-server-proxy->pyvista>=0.44.1->pyvista[all]>=0.44.1->turbine-mesher==0.1.0) (0.1.4)\n",
      "Requirement already satisfied: rfc3986-validator>=0.1.1 in /dolfinx-env/lib/python3.12/site-packages (from jupyter-events>=0.9.0->jupyter-server>=1.24.0->jupyter-server-proxy->pyvista>=0.44.1->pyvista[all]>=0.44.1->turbine-mesher==0.1.0) (0.1.1)\n",
      "Requirement already satisfied: beautifulsoup4 in /dolfinx-env/lib/python3.12/site-packages (from nbconvert>=6.4.4->jupyter-server>=1.24.0->jupyter-server-proxy->pyvista>=0.44.1->pyvista[all]>=0.44.1->turbine-mesher==0.1.0) (4.12.3)\n",
      "Requirement already satisfied: bleach!=5.0.0 in /dolfinx-env/lib/python3.12/site-packages (from nbconvert>=6.4.4->jupyter-server>=1.24.0->jupyter-server-proxy->pyvista>=0.44.1->pyvista[all]>=0.44.1->turbine-mesher==0.1.0) (6.2.0)\n",
      "Requirement already satisfied: defusedxml in /dolfinx-env/lib/python3.12/site-packages (from nbconvert>=6.4.4->jupyter-server>=1.24.0->jupyter-server-proxy->pyvista>=0.44.1->pyvista[all]>=0.44.1->turbine-mesher==0.1.0) (0.7.1)\n",
      "Requirement already satisfied: jupyterlab-pygments in /dolfinx-env/lib/python3.12/site-packages (from nbconvert>=6.4.4->jupyter-server>=1.24.0->jupyter-server-proxy->pyvista>=0.44.1->pyvista[all]>=0.44.1->turbine-mesher==0.1.0) (0.3.0)\n",
      "Requirement already satisfied: mistune<4,>=2.0.3 in /dolfinx-env/lib/python3.12/site-packages (from nbconvert>=6.4.4->jupyter-server>=1.24.0->jupyter-server-proxy->pyvista>=0.44.1->pyvista[all]>=0.44.1->turbine-mesher==0.1.0) (3.0.2)\n",
      "Requirement already satisfied: nbclient>=0.5.0 in /dolfinx-env/lib/python3.12/site-packages (from nbconvert>=6.4.4->jupyter-server>=1.24.0->jupyter-server-proxy->pyvista>=0.44.1->pyvista[all]>=0.44.1->turbine-mesher==0.1.0) (0.10.0)\n",
      "Requirement already satisfied: pandocfilters>=1.4.1 in /dolfinx-env/lib/python3.12/site-packages (from nbconvert>=6.4.4->jupyter-server>=1.24.0->jupyter-server-proxy->pyvista>=0.44.1->pyvista[all]>=0.44.1->turbine-mesher==0.1.0) (1.5.1)\n",
      "Requirement already satisfied: tinycss2 in /dolfinx-env/lib/python3.12/site-packages (from nbconvert>=6.4.4->jupyter-server>=1.24.0->jupyter-server-proxy->pyvista>=0.44.1->pyvista[all]>=0.44.1->turbine-mesher==0.1.0) (1.4.0)\n",
      "Requirement already satisfied: fastjsonschema>=2.15 in /dolfinx-env/lib/python3.12/site-packages (from nbformat>=5.3.0->jupyter-server>=1.24.0->jupyter-server-proxy->pyvista>=0.44.1->pyvista[all]>=0.44.1->turbine-mesher==0.1.0) (2.20.0)\n",
      "Requirement already satisfied: jupyterlab-server<3,>=2.27.1 in /dolfinx-env/lib/python3.12/site-packages (from notebook>=4.4.1->widgetsnbextension~=3.6.10->ipywidgets->pyvista>=0.44.1->pyvista[all]>=0.44.1->turbine-mesher==0.1.0) (2.27.3)\n",
      "Requirement already satisfied: jupyterlab<4.3,>=4.2.0 in /dolfinx-env/lib/python3.12/site-packages (from notebook>=4.4.1->widgetsnbextension~=3.6.10->ipywidgets->pyvista>=0.44.1->pyvista[all]>=0.44.1->turbine-mesher==0.1.0) (4.2.6)\n",
      "Requirement already satisfied: notebook-shim<0.3,>=0.2 in /dolfinx-env/lib/python3.12/site-packages (from notebook>=4.4.1->widgetsnbextension~=3.6.10->ipywidgets->pyvista>=0.44.1->pyvista[all]>=0.44.1->turbine-mesher==0.1.0) (0.2.4)\n",
      "Requirement already satisfied: ptyprocess>=0.5 in /dolfinx-env/lib/python3.12/site-packages (from pexpect>4.3->ipython>=4.0.0->ipywidgets->pyvista>=0.44.1->pyvista[all]>=0.44.1->turbine-mesher==0.1.0) (0.7.0)\n",
      "Requirement already satisfied: wcwidth in /dolfinx-env/lib/python3.12/site-packages (from prompt-toolkit<3.1.0,>=3.0.41->ipython>=4.0.0->ipywidgets->pyvista>=0.44.1->pyvista[all]>=0.44.1->turbine-mesher==0.1.0) (0.2.13)\n",
      "Requirement already satisfied: executing>=1.2.0 in /dolfinx-env/lib/python3.12/site-packages (from stack-data->ipython>=4.0.0->ipywidgets->pyvista>=0.44.1->pyvista[all]>=0.44.1->turbine-mesher==0.1.0) (2.1.0)\n",
      "Requirement already satisfied: asttokens>=2.1.0 in /dolfinx-env/lib/python3.12/site-packages (from stack-data->ipython>=4.0.0->ipywidgets->pyvista>=0.44.1->pyvista[all]>=0.44.1->turbine-mesher==0.1.0) (2.4.1)\n",
      "Requirement already satisfied: pure-eval in /dolfinx-env/lib/python3.12/site-packages (from stack-data->ipython>=4.0.0->ipywidgets->pyvista>=0.44.1->pyvista[all]>=0.44.1->turbine-mesher==0.1.0) (0.2.3)\n",
      "Requirement already satisfied: webencodings in /dolfinx-env/lib/python3.12/site-packages (from bleach!=5.0.0->nbconvert>=6.4.4->jupyter-server>=1.24.0->jupyter-server-proxy->pyvista>=0.44.1->pyvista[all]>=0.44.1->turbine-mesher==0.1.0) (0.5.1)\n",
      "Requirement already satisfied: jsonschema-specifications>=2023.03.6 in /dolfinx-env/lib/python3.12/site-packages (from jsonschema>=4.18.0->jsonschema[format-nongpl]>=4.18.0->jupyter-events>=0.9.0->jupyter-server>=1.24.0->jupyter-server-proxy->pyvista>=0.44.1->pyvista[all]>=0.44.1->turbine-mesher==0.1.0) (2024.10.1)\n",
      "Requirement already satisfied: rpds-py>=0.7.1 in /dolfinx-env/lib/python3.12/site-packages (from jsonschema>=4.18.0->jsonschema[format-nongpl]>=4.18.0->jupyter-events>=0.9.0->jupyter-server>=1.24.0->jupyter-server-proxy->pyvista>=0.44.1->pyvista[all]>=0.44.1->turbine-mesher==0.1.0) (0.21.0)\n",
      "Requirement already satisfied: fqdn in /dolfinx-env/lib/python3.12/site-packages (from jsonschema[format-nongpl]>=4.18.0->jupyter-events>=0.9.0->jupyter-server>=1.24.0->jupyter-server-proxy->pyvista>=0.44.1->pyvista[all]>=0.44.1->turbine-mesher==0.1.0) (1.5.1)\n",
      "Requirement already satisfied: isoduration in /dolfinx-env/lib/python3.12/site-packages (from jsonschema[format-nongpl]>=4.18.0->jupyter-events>=0.9.0->jupyter-server>=1.24.0->jupyter-server-proxy->pyvista>=0.44.1->pyvista[all]>=0.44.1->turbine-mesher==0.1.0) (20.11.0)\n",
      "Requirement already satisfied: jsonpointer>1.13 in /dolfinx-env/lib/python3.12/site-packages (from jsonschema[format-nongpl]>=4.18.0->jupyter-events>=0.9.0->jupyter-server>=1.24.0->jupyter-server-proxy->pyvista>=0.44.1->pyvista[all]>=0.44.1->turbine-mesher==0.1.0) (3.0.0)\n",
      "Requirement already satisfied: uri-template in /dolfinx-env/lib/python3.12/site-packages (from jsonschema[format-nongpl]>=4.18.0->jupyter-events>=0.9.0->jupyter-server>=1.24.0->jupyter-server-proxy->pyvista>=0.44.1->pyvista[all]>=0.44.1->turbine-mesher==0.1.0) (1.3.0)\n",
      "Requirement already satisfied: webcolors>=24.6.0 in /dolfinx-env/lib/python3.12/site-packages (from jsonschema[format-nongpl]>=4.18.0->jupyter-events>=0.9.0->jupyter-server>=1.24.0->jupyter-server-proxy->pyvista>=0.44.1->pyvista[all]>=0.44.1->turbine-mesher==0.1.0) (24.11.1)\n",
      "Requirement already satisfied: async-lru>=1.0.0 in /dolfinx-env/lib/python3.12/site-packages (from jupyterlab<4.3,>=4.2.0->notebook>=4.4.1->widgetsnbextension~=3.6.10->ipywidgets->pyvista>=0.44.1->pyvista[all]>=0.44.1->turbine-mesher==0.1.0) (2.0.4)\n",
      "Requirement already satisfied: httpx>=0.25.0 in /dolfinx-env/lib/python3.12/site-packages (from jupyterlab<4.3,>=4.2.0->notebook>=4.4.1->widgetsnbextension~=3.6.10->ipywidgets->pyvista>=0.44.1->pyvista[all]>=0.44.1->turbine-mesher==0.1.0) (0.27.2)\n",
      "Requirement already satisfied: ipykernel>=6.5.0 in /dolfinx-env/lib/python3.12/site-packages (from jupyterlab<4.3,>=4.2.0->notebook>=4.4.1->widgetsnbextension~=3.6.10->ipywidgets->pyvista>=0.44.1->pyvista[all]>=0.44.1->turbine-mesher==0.1.0) (6.29.5)\n",
      "Requirement already satisfied: jupyter-lsp>=2.0.0 in /dolfinx-env/lib/python3.12/site-packages (from jupyterlab<4.3,>=4.2.0->notebook>=4.4.1->widgetsnbextension~=3.6.10->ipywidgets->pyvista>=0.44.1->pyvista[all]>=0.44.1->turbine-mesher==0.1.0) (2.2.5)\n",
      "Requirement already satisfied: setuptools>=40.1.0 in /dolfinx-env/lib/python3.12/site-packages (from jupyterlab<4.3,>=4.2.0->notebook>=4.4.1->widgetsnbextension~=3.6.10->ipywidgets->pyvista>=0.44.1->pyvista[all]>=0.44.1->turbine-mesher==0.1.0) (75.1.0)\n",
      "Requirement already satisfied: babel>=2.10 in /dolfinx-env/lib/python3.12/site-packages (from jupyterlab-server<3,>=2.27.1->notebook>=4.4.1->widgetsnbextension~=3.6.10->ipywidgets->pyvista>=0.44.1->pyvista[all]>=0.44.1->turbine-mesher==0.1.0) (2.16.0)\n",
      "Requirement already satisfied: json5>=0.9.0 in /dolfinx-env/lib/python3.12/site-packages (from jupyterlab-server<3,>=2.27.1->notebook>=4.4.1->widgetsnbextension~=3.6.10->ipywidgets->pyvista>=0.44.1->pyvista[all]>=0.44.1->turbine-mesher==0.1.0) (0.9.28)\n",
      "Requirement already satisfied: cffi>=1.0.1 in /dolfinx-env/lib/python3.12/site-packages (from argon2-cffi-bindings->argon2-cffi>=21.1->jupyter-server>=1.24.0->jupyter-server-proxy->pyvista>=0.44.1->pyvista[all]>=0.44.1->turbine-mesher==0.1.0) (1.17.1)\n",
      "Requirement already satisfied: soupsieve>1.2 in /dolfinx-env/lib/python3.12/site-packages (from beautifulsoup4->nbconvert>=6.4.4->jupyter-server>=1.24.0->jupyter-server-proxy->pyvista>=0.44.1->pyvista[all]>=0.44.1->turbine-mesher==0.1.0) (2.6)\n",
      "Requirement already satisfied: pycparser in /dolfinx-env/lib/python3.12/site-packages (from cffi>=1.0.1->argon2-cffi-bindings->argon2-cffi>=21.1->jupyter-server>=1.24.0->jupyter-server-proxy->pyvista>=0.44.1->pyvista[all]>=0.44.1->turbine-mesher==0.1.0) (2.22)\n",
      "Requirement already satisfied: httpcore==1.* in /dolfinx-env/lib/python3.12/site-packages (from httpx>=0.25.0->jupyterlab<4.3,>=4.2.0->notebook>=4.4.1->widgetsnbextension~=3.6.10->ipywidgets->pyvista>=0.44.1->pyvista[all]>=0.44.1->turbine-mesher==0.1.0) (1.0.7)\n",
      "Requirement already satisfied: h11<0.15,>=0.13 in /dolfinx-env/lib/python3.12/site-packages (from httpcore==1.*->httpx>=0.25.0->jupyterlab<4.3,>=4.2.0->notebook>=4.4.1->widgetsnbextension~=3.6.10->ipywidgets->pyvista>=0.44.1->pyvista[all]>=0.44.1->turbine-mesher==0.1.0) (0.14.0)\n",
      "Requirement already satisfied: debugpy>=1.6.5 in /dolfinx-env/lib/python3.12/site-packages (from ipykernel>=6.5.0->jupyterlab<4.3,>=4.2.0->notebook>=4.4.1->widgetsnbextension~=3.6.10->ipywidgets->pyvista>=0.44.1->pyvista[all]>=0.44.1->turbine-mesher==0.1.0) (1.8.9)\n",
      "Requirement already satisfied: psutil in /dolfinx-env/lib/python3.12/site-packages (from ipykernel>=6.5.0->jupyterlab<4.3,>=4.2.0->notebook>=4.4.1->widgetsnbextension~=3.6.10->ipywidgets->pyvista>=0.44.1->pyvista[all]>=0.44.1->turbine-mesher==0.1.0) (6.1.0)\n",
      "Requirement already satisfied: arrow>=0.15.0 in /dolfinx-env/lib/python3.12/site-packages (from isoduration->jsonschema[format-nongpl]>=4.18.0->jupyter-events>=0.9.0->jupyter-server>=1.24.0->jupyter-server-proxy->pyvista>=0.44.1->pyvista[all]>=0.44.1->turbine-mesher==0.1.0) (1.3.0)\n",
      "Requirement already satisfied: types-python-dateutil>=2.8.10 in /dolfinx-env/lib/python3.12/site-packages (from arrow>=0.15.0->isoduration->jsonschema[format-nongpl]>=4.18.0->jupyter-events>=0.9.0->jupyter-server>=1.24.0->jupyter-server-proxy->pyvista>=0.44.1->pyvista[all]>=0.44.1->turbine-mesher==0.1.0) (2.9.0.20241003)\n",
      "Downloading gmsh-4.13.1-py2.py3-none-manylinux_2_24_x86_64.whl (39.8 MB)\n",
      "\u001b[2K   \u001b[90m━━━━━━━━━━━━━━━━━━━━━━━━━━━━━━━━━━━━━━━━\u001b[0m \u001b[32m39.8/39.8 MB\u001b[0m \u001b[31m106.0 MB/s\u001b[0m eta \u001b[36m0:00:00\u001b[0ma \u001b[36m0:00:01\u001b[0m\n",
      "\u001b[?25hBuilding wheels for collected packages: turbine-mesher\n",
      "  Building editable for turbine-mesher (pyproject.toml) ... \u001b[?25ldone\n",
      "\u001b[?25h  Created wheel for turbine-mesher: filename=turbine_mesher-0.1.0-py3-none-any.whl size=1150 sha256=aaedd90ead3818e5de6d065933e28652b8aa19bef71af5a322a436ca0db47c74\n",
      "  Stored in directory: /tmp/pip-ephem-wheel-cache-w93artrh/wheels/14/8d/6c/2dd37501f447101d7f4805b86d7e8d7ad6b33a38f48e04f51d\n",
      "Successfully built turbine-mesher\n",
      "Installing collected packages: gmsh, turbine-mesher\n",
      "  Attempting uninstall: gmsh\n",
      "    Found existing installation: gmsh 4.13.1.dev1\n",
      "    Not uninstalling gmsh at /usr/local/lib, outside environment /dolfinx-env\n",
      "    Can't uninstall 'gmsh'. No files were found to uninstall.\n",
      "  Attempting uninstall: turbine-mesher\n",
      "    Found existing installation: turbine-mesher 0.1.0\n",
      "    Uninstalling turbine-mesher-0.1.0:\n",
      "      Successfully uninstalled turbine-mesher-0.1.0\n",
      "Successfully installed gmsh-4.13.1 turbine-mesher-0.1.0\n"
     ]
    }
   ],
   "source": [
    "!pip install --no-cache-dir -e /turbine_mesher\n",
    "\n",
    "import os\n",
    "from pathlib import Path\n",
    "\n",
    "CURRENT_FOLDER = Path().resolve()\n",
    "DATA_FOLDER = os.path.join(CURRENT_FOLDER, \"data\")\n",
    "OUTPUT_FOLDER = os.path.join(CURRENT_FOLDER, \"output\")\n"
   ]
  },
  {
   "cell_type": "markdown",
   "metadata": {},
   "source": [
    "## Read pyNumad blade definition\n",
    "\n",
    "The blade definition was taken from the PyNumad Original github repositories examples\n",
    "here: https://github.com/sandialabs/pyNuMAD/blob/main/examples/example_data/IEA-15-240-RWT.yaml\n"
   ]
  },
  {
   "cell_type": "code",
   "execution_count": 3,
   "metadata": {},
   "outputs": [],
   "source": [
    "bladeYaml = os.path.join(DATA_FOLDER, \"IEA-15-240-RWT.yaml\")\n"
   ]
  },
  {
   "cell_type": "markdown",
   "metadata": {},
   "source": [
    "Create mesh object, and mesh solid FEM blade\n"
   ]
  },
  {
   "cell_type": "code",
   "execution_count": 4,
   "metadata": {},
   "outputs": [
    {
     "name": "stdout",
     "output_type": "stream",
     "text": [
      "Updating station: 49 TE separation from 0.000648680513013211 to 0.001\n"
     ]
    }
   ],
   "source": [
    "from turbine_mesher.mesh import Mesh\n",
    "\n",
    "blade = Mesh(bladeYaml, element_size=0.2)\n"
   ]
  },
  {
   "cell_type": "code",
   "execution_count": null,
   "metadata": {},
   "outputs": [
    {
     "data": {
      "application/vnd.jupyter.widget-view+json": {
       "model_id": "e7ad1d84f321487a81a415b96f822edc",
       "version_major": 2,
       "version_minor": 0
      },
      "text/plain": [
       "Output()"
      ]
     },
     "metadata": {},
     "output_type": "display_data"
    },
    {
     "data": {
      "text/html": [
       "<pre style=\"white-space:pre;overflow-x:auto;line-height:normal;font-family:Menlo,'DejaVu Sans Mono',consolas,'Courier New',monospace\">Mesh statistics:\n",
       "Total nodes: <span style=\"color: #008080; text-decoration-color: #008080; font-weight: bold\">156900</span>\n",
       "Total cells: <span style=\"color: #008080; text-decoration-color: #008080; font-weight: bold\">686628</span>\n",
       "Cell types: tetra\n",
       " -&gt; tetra: <span style=\"color: #008080; text-decoration-color: #008080; font-weight: bold\">686628</span> Cells\n",
       "\n",
       "</pre>\n"
      ],
      "text/plain": [
       "Mesh statistics:\n",
       "Total nodes: \u001b[1;36m156900\u001b[0m\n",
       "Total cells: \u001b[1;36m686628\u001b[0m\n",
       "Cell types: tetra\n",
       " -> tetra: \u001b[1;36m686628\u001b[0m Cells\n",
       "\n"
      ]
     },
     "metadata": {},
     "output_type": "display_data"
    },
    {
     "data": {
      "text/html": [
       "<pre style=\"white-space:pre;overflow-x:auto;line-height:normal;font-family:Menlo,'DejaVu Sans Mono',consolas,'Courier New',monospace\"></pre>\n"
      ],
      "text/plain": []
     },
     "metadata": {},
     "output_type": "display_data"
    }
   ],
   "source": [
    "blade.solid_mesh()\n"
   ]
  },
  {
   "cell_type": "markdown",
   "metadata": {},
   "source": [
    "### View mesh with PyVista\n",
    "\n",
    "To plot the mesh we need to transform the MeshioMesh to pyVista.\n"
   ]
  },
  {
   "cell_type": "code",
   "execution_count": 6,
   "metadata": {},
   "outputs": [
    {
     "data": {
      "application/vnd.jupyter.widget-view+json": {
       "model_id": "5afc3c8f66e84221b9209237fabf758c",
       "version_major": 2,
       "version_minor": 0
      },
      "text/plain": [
       "Widget(value='<iframe src=\"http://localhost:46113/index.html?ui=P_0x7afa45798200_0&reconnect=auto\" class=\"pyvi…"
      ]
     },
     "metadata": {},
     "output_type": "display_data"
    }
   ],
   "source": [
    "import numpy as np\n",
    "import pyvista as pv\n",
    "from pyvista import CellType\n",
    "\n",
    "\n",
    "def meshio_to_pyvista(mesh):\n",
    "    points = mesh.points\n",
    "    cells = []\n",
    "    cell_type = np.array(\n",
    "        [CellType.TETRA for i in range(sum(len(i.data) for i in mesh.cells))], np.int32\n",
    "    )\n",
    "\n",
    "    for cell_block in mesh.cells_dict.values():\n",
    "        for cell in cell_block:\n",
    "            cells.extend([4] + cell.tolist())\n",
    "\n",
    "    cells = np.array(cells)\n",
    "    grid = pv.UnstructuredGrid(cells, cell_type, points)\n",
    "    return grid\n",
    "\n",
    "\n",
    "pv_mesh = meshio_to_pyvista(blade.mesh)\n",
    "plotter = pv.Plotter()\n",
    "plotter.add_mesh(pv_mesh, show_edges=True)\n",
    "plotter.show()\n"
   ]
  },
  {
   "cell_type": "markdown",
   "metadata": {},
   "source": [
    "Prepare mesh for DOLFINx\n"
   ]
  },
  {
   "cell_type": "code",
   "execution_count": null,
   "metadata": {},
   "outputs": [],
   "source": [
    "import basix.ufl\n",
    "import dolfinx as dfx\n",
    "import ufl\n",
    "from mpi4py import MPI\n",
    "\n",
    "nodes = blade.mesh.points\n",
    "connectivity = [i for i in blade.mesh.cells_dict.values()][0]\n",
    "c_el = ufl.Mesh(\n",
    "    basix.ufl.element(\"Lagrange\", \"tetrahedron\", 1, shape=(nodes.shape[1],))\n",
    ")\n",
    "domain = dfx.mesh.create_mesh(MPI.COMM_SELF, connectivity, nodes, c_el)\n"
   ]
  },
  {
   "cell_type": "code",
   "execution_count": null,
   "metadata": {
    "tags": []
   },
   "outputs": [],
   "source": [
    "V = dfx.fem.functionspace(domain, (\"Lagrange\", 1, (domain.geometry.dim,)))\n"
   ]
  },
  {
   "cell_type": "markdown",
   "metadata": {},
   "source": [
    "## Boundary conditions\n",
    "\n",
    "As we would like to clamp the boundary at $x=0$, we do this by using a marker function, which locate the facets where $x$ is close to zero by machine precision.\n"
   ]
  },
  {
   "cell_type": "code",
   "execution_count": null,
   "metadata": {},
   "outputs": [],
   "source": [
    "def clamped_boundary(x):\n",
    "    return np.isclose(x[2], 0, atol=1e-3)\n",
    "\n",
    "\n",
    "fdim = domain.topology.dim - 1\n",
    "dim = domain.topology.dim\n",
    "boundary_facets = dfx.mesh.locate_entities_boundary(domain, fdim, clamped_boundary)\n",
    "\n",
    "u_D = np.array([0, 0, 0], dtype=dfx.default_scalar_type)\n",
    "bc = dfx.fem.dirichletbc(\n",
    "    u_D, dfx.fem.locate_dofs_topological(V, fdim, boundary_facets), V\n",
    ")\n"
   ]
  },
  {
   "cell_type": "markdown",
   "metadata": {},
   "source": [
    "As we want the traction $T$ over the remaining boundary to be $0$, we create a `dolfinx.Constant`\n"
   ]
  },
  {
   "cell_type": "code",
   "execution_count": null,
   "metadata": {},
   "outputs": [],
   "source": [
    "ds = ufl.Measure(\"ds\", domain=domain)\n",
    "dx = ufl.Measure(\"dx\", domain=domain)\n"
   ]
  },
  {
   "cell_type": "markdown",
   "metadata": {},
   "source": [
    "## Variational formulation\n",
    "\n",
    "We are now ready to create our variational formulation in close to mathematical syntax, as for the previous problems.\n"
   ]
  },
  {
   "cell_type": "code",
   "execution_count": null,
   "metadata": {},
   "outputs": [],
   "source": [
    "E = dfx.fem.Constant(domain, 210e3)\n",
    "nu = dfx.fem.Constant(domain, 0.3)\n",
    "rho = 2e-3\n",
    "g = 9.81\n",
    "\n",
    "lmbda = E * nu / (1 + nu) / (1 - 2 * nu)\n",
    "mu = E / 2 / (1 + nu)\n",
    "\n",
    "\n",
    "def epsilon(v):\n",
    "    return ufl.sym(ufl.grad(v))\n",
    "\n",
    "\n",
    "def sigma(v):\n",
    "    return lmbda * ufl.tr(epsilon(v)) * ufl.Identity(dim) + 2 * mu * epsilon(v)\n",
    "\n",
    "\n",
    "u = ufl.TrialFunction(V)\n",
    "v = ufl.TestFunction(V)\n",
    "v = ufl.TestFunction(V)\n",
    "\n",
    "\n",
    "f = dfx.fem.Constant(domain, np.array([0, 200.0, 0]))\n",
    "a = ufl.inner(sigma(u), epsilon(v)) * dx\n",
    "L = ufl.inner(f, v) * ds\n"
   ]
  },
  {
   "cell_type": "markdown",
   "metadata": {},
   "source": [
    "```{note}\n",
    "Note that we used `nabla_grad` and optionally `nabla_div` for the variational formulation, as oposed to our previous usage of\n",
    "`div` and `grad`. This is because for scalar functions $\\nabla u$ has a clear meaning\n",
    "$\\nabla u = \\left(\\frac{\\partial u}{\\partial x}, \\frac{\\partial u}{\\partial y}, \\frac{\\partial u}{\\partial z} \\right)$.\n",
    "\n",
    "However, if $u$ is vector valued, the meaning is less clear. Some sources define $\\nabla u$ as a matrix with the elements $\\frac{\\partial u_j}{\\partial x_i}$, while other  sources prefer\n",
    "$\\frac{\\partial u_i}{\\partial x_j}$. In DOLFINx `grad(u)` is defined as the matrix with elements $\\frac{\\partial u_i}{\\partial x_j}$. However, as it is common in continuum mechanics to use the other definition, `ufl` supplies us with `nabla_grad` for this purpose.\n",
    "```\n",
    "\n",
    "## Solve the linear variational problem\n",
    "\n",
    "As in the previous demos, we assemble the matrix and right hand side vector and use PETSc to solve our variational problem\n"
   ]
  },
  {
   "cell_type": "code",
   "execution_count": null,
   "metadata": {},
   "outputs": [],
   "source": [
    "from dolfinx.fem.petsc import LinearProblem\n",
    "\n",
    "problem = LinearProblem(\n",
    "    a, L, bcs=[bc], petsc_options={\"ksp_type\": \"preonly\", \"pc_type\": \"lu\"}\n",
    ")\n",
    "uh = problem.solve()\n"
   ]
  },
  {
   "cell_type": "markdown",
   "metadata": {},
   "source": [
    "## Visualization\n"
   ]
  },
  {
   "cell_type": "markdown",
   "metadata": {},
   "source": [
    "As in the previous demos, we can either use Pyvista or Paraview for visualization. We start by using Pyvista. Instead of adding scalar values to the grid, we add vectors.\n"
   ]
  },
  {
   "cell_type": "code",
   "execution_count": null,
   "metadata": {},
   "outputs": [
    {
     "name": "stderr",
     "output_type": "stream",
     "text": [
      "Authorization required, but no authorization protocol specified\n",
      "\n",
      "Authorization required, but no authorization protocol specified\n",
      "\n",
      "\u001b[0m\u001b[33m2024-11-27 04:34:28.072 (1719.796s) [    7FE64A667140]vtkXOpenGLRenderWindow.:1290  WARN| vtkXOpenGLRenderWindow (0x46f618b0): bad X server connection. DISPLAY=:1\u001b[0m\n"
     ]
    },
    {
     "data": {
      "application/vnd.jupyter.widget-view+json": {
       "model_id": "e51229c9a26f47d4bd9f971dcf9e5916",
       "version_major": 2,
       "version_minor": 0
      },
      "text/plain": [
       "Widget(value='<iframe src=\"http://localhost:38991/index.html?ui=P_0x7fe566ba5760_11&reconnect=auto\" class=\"pyv…"
      ]
     },
     "metadata": {},
     "output_type": "display_data"
    }
   ],
   "source": [
    "import pyvista as pv\n",
    "\n",
    "p = pv.Plotter()\n",
    "topology, cell_types, geometry = dfx.plot.vtk_mesh(V)\n",
    "grid = pv.UnstructuredGrid(topology, cell_types, geometry)\n",
    "\n",
    "grid[\"u\"] = uh.x.array.reshape((geometry.shape[0], -1))\n",
    "actor_0 = p.add_mesh(grid, style=\"wireframe\")\n",
    "warped = grid.warp_by_vector(\"u\", factor=1e-8)\n",
    "actor_1 = p.add_mesh(warped, show_edges=True)\n",
    "p.show_axes()\n",
    "p.show()\n"
   ]
  },
  {
   "cell_type": "markdown",
   "metadata": {},
   "source": [
    "We could also use Paraview for visualizing this.\n",
    "As explained in previous sections, we save the solution with `XDMFFile`.\n",
    "After opening the file `deformation.xdmf` in Paraview and pressing `Apply`, one can press the `Warp by vector button` ![Warp by vector](warp_by_vector.png) or go through the top menu (`Filters->Alphabetical->Warp by Vector`) and press `Apply`. We can also change the color of the deformed beam by changing the value in the color menu ![color](color.png) from `Solid Color` to `Deformation`.\n"
   ]
  },
  {
   "cell_type": "code",
   "execution_count": null,
   "metadata": {},
   "outputs": [],
   "source": [
    "with dfx.io.XDMFFile(domain.comm, \"deformation.xdmf\", \"w\") as xdmf:\n",
    "    xdmf.write_mesh(domain)\n",
    "    uh.name = \"Deformation\"\n",
    "    xdmf.write_function(uh)\n",
    "\n",
    "with dfx.io.VTKFile(domain.comm, \"deformation.pvd\", \"w\") as xdmf:\n",
    "    xdmf.write_mesh(domain)\n",
    "    uh.name = \"Deformation\"\n",
    "    xdmf.write_function(uh)\n"
   ]
  },
  {
   "cell_type": "markdown",
   "metadata": {},
   "source": [
    "## Stress computation\n",
    "\n",
    "As soon as the displacement is computed, we can compute various stress measures. We will compute the von Mises stress defined as $\\sigma_m=\\sqrt{\\frac{3}{2}s:s}$ where $s$ is the deviatoric stress tensor $s(u)=\\sigma(u)-\\frac{1}{3}\\mathrm{tr}(\\sigma(u))I$.\n"
   ]
  },
  {
   "cell_type": "code",
   "execution_count": null,
   "metadata": {},
   "outputs": [],
   "source": [
    "s = sigma(uh) - 1.0 / 3 * ufl.tr(sigma(uh)) * ufl.Identity(len(uh))\n",
    "von_Mises = ufl.sqrt(3.0 / 2 * ufl.inner(s, s))\n"
   ]
  },
  {
   "cell_type": "markdown",
   "metadata": {},
   "source": [
    "The `von_Mises` variable is now an expression that must be projected into an appropriate function space so that we can visualize it. As `uh` is a linear combination of first order piecewise continuous functions, the von Mises stresses will be a cell-wise constant function.\n"
   ]
  },
  {
   "cell_type": "code",
   "execution_count": null,
   "metadata": {},
   "outputs": [],
   "source": [
    "V_von_mises = dfx.fem.functionspace(domain, (\"DG\", 0))\n",
    "stress_expr = dfx.fem.Expression(von_Mises, V_von_mises.element.interpolation_points())\n",
    "stresses = dfx.fem.Function(V_von_mises)\n",
    "stresses.interpolate(stress_expr)\n"
   ]
  },
  {
   "cell_type": "markdown",
   "metadata": {},
   "source": [
    "In the previous sections, we have only visualized first order Lagrangian functions. However, the Von Mises stresses are piecewise constant on each cell. Therefore, we modify our plotting routine slightly. The first thing we notice is that we now set values for each cell, which has a one to one correspondence with the degrees of freedom in the function space.\n"
   ]
  },
  {
   "cell_type": "code",
   "execution_count": null,
   "metadata": {
    "tags": []
   },
   "outputs": [
    {
     "name": "stderr",
     "output_type": "stream",
     "text": [
      "Authorization required, but no authorization protocol specified\n",
      "\n",
      "Authorization required, but no authorization protocol specified\n",
      "\n",
      "\u001b[0m\u001b[33m2024-11-27 04:34:34.920 (1726.643s) [    7FE64A667140]vtkXOpenGLRenderWindow.:1290  WARN| vtkXOpenGLRenderWindow (0x7ecf8810): bad X server connection. DISPLAY=:1\u001b[0m\n"
     ]
    },
    {
     "data": {
      "application/vnd.jupyter.widget-view+json": {
       "model_id": "900aef2c424d416da7ca988929598b2c",
       "version_major": 2,
       "version_minor": 0
      },
      "text/plain": [
       "Widget(value='<iframe src=\"http://localhost:38991/index.html?ui=P_0x7fe5d8109d00_12&reconnect=auto\" class=\"pyv…"
      ]
     },
     "metadata": {},
     "output_type": "display_data"
    }
   ],
   "source": [
    "warped.cell_data[\"VonMises\"] = stresses.x.petsc_vec.array\n",
    "warped.set_active_scalars(\"VonMises\")\n",
    "p = pv.Plotter()\n",
    "p.add_mesh(warped)\n",
    "p.show_axes()\n",
    "p.show()\n"
   ]
  },
  {
   "cell_type": "code",
   "execution_count": null,
   "metadata": {},
   "outputs": [],
   "source": []
  }
 ],
 "metadata": {
  "jupytext": {
   "formats": "ipynb,py:light"
  },
  "kernelspec": {
   "display_name": "dolfinx-env",
   "language": "python",
   "name": "python3"
  },
  "language_info": {
   "codemirror_mode": {
    "name": "ipython",
    "version": 3
   },
   "file_extension": ".py",
   "mimetype": "text/x-python",
   "name": "python",
   "nbconvert_exporter": "python",
   "pygments_lexer": "ipython3",
   "version": "3.12.3"
  }
 },
 "nbformat": 4,
 "nbformat_minor": 4
}
