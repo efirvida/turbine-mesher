{
 "cells": [
  {
   "cell_type": "markdown",
   "metadata": {},
   "source": [
    "# Implementation\n",
    "Author: Eduardo Miguel Firvida Donestevez\n",
    "\n",
    "In this tutorial, you will learn how to:\n",
    "- Static deformation of IEA 15MW Offshore Reference Turbine "
   ]
  },
  {
   "cell_type": "code",
   "execution_count": 1,
   "metadata": {},
   "outputs": [],
   "source": [
    "import os\n",
    "from pathlib import Path\n",
    "\n",
    "CURRENT_FOLDER = Path().resolve()\n",
    "DATA_FOLDER = os.path.join(CURRENT_FOLDER, \"data\")\n",
    "OUTPUT_FOLDER = os.path.join(CURRENT_FOLDER, \"output\")\n"
   ]
  },
  {
   "cell_type": "markdown",
   "metadata": {},
   "source": [
    "## Read pyNumad blade definition\n",
    "\n",
    "The blade definition was taken from the PyNumad Original github repositories examples\n",
    "here: https://github.com/sandialabs/pyNuMAD/blob/main/examples/example_data/IEA-15-240-RWT.yaml\n"
   ]
  },
  {
   "cell_type": "code",
   "execution_count": 2,
   "metadata": {},
   "outputs": [],
   "source": [
    "bladeYaml = os.path.join(DATA_FOLDER, \"IEA-15-240-RWT.yaml\")"
   ]
  },
  {
   "cell_type": "markdown",
   "metadata": {},
   "source": [
    "Create mesh object, and mesh solid FEM blade"
   ]
  },
  {
   "cell_type": "code",
   "execution_count": 3,
   "metadata": {},
   "outputs": [
    {
     "name": "stdout",
     "output_type": "stream",
     "text": [
      "Updating station: 49 TE separation from 0.000648680513013211 to 0.001\n"
     ]
    }
   ],
   "source": [
    "from turbine_mesher.mesh import Mesh\n",
    "\n",
    "mesh = Mesh(bladeYaml, element_size=0.5)"
   ]
  },
  {
   "cell_type": "code",
   "execution_count": 4,
   "metadata": {},
   "outputs": [
    {
     "data": {
      "application/vnd.jupyter.widget-view+json": {
       "model_id": "430e33830ff34e35ac9fc21161f907ff",
       "version_major": 2,
       "version_minor": 0
      },
      "text/plain": [
       "Output()"
      ]
     },
     "metadata": {},
     "output_type": "display_data"
    },
    {
     "data": {
      "text/html": [
       "<pre style=\"white-space:pre;overflow-x:auto;line-height:normal;font-family:Menlo,'DejaVu Sans Mono',consolas,'Courier New',monospace\">Mesh statistics:\n",
       "Total nodes: <span style=\"color: #008080; text-decoration-color: #008080; font-weight: bold\">31184</span>\n",
       "Total cells: <span style=\"color: #008080; text-decoration-color: #008080; font-weight: bold\">88086</span>\n",
       "Cell types: tetra\n",
       " -&gt; tetra: <span style=\"color: #008080; text-decoration-color: #008080; font-weight: bold\">88086</span> Cells\n",
       "\n",
       "</pre>\n"
      ],
      "text/plain": [
       "Mesh statistics:\n",
       "Total nodes: \u001b[1;36m31184\u001b[0m\n",
       "Total cells: \u001b[1;36m88086\u001b[0m\n",
       "Cell types: tetra\n",
       " -> tetra: \u001b[1;36m88086\u001b[0m Cells\n",
       "\n"
      ]
     },
     "metadata": {},
     "output_type": "display_data"
    },
    {
     "data": {
      "text/html": [
       "<pre style=\"white-space:pre;overflow-x:auto;line-height:normal;font-family:Menlo,'DejaVu Sans Mono',consolas,'Courier New',monospace\"></pre>\n"
      ],
      "text/plain": []
     },
     "metadata": {},
     "output_type": "display_data"
    }
   ],
   "source": [
    "mesh.solid_mesh()"
   ]
  },
  {
   "cell_type": "markdown",
   "metadata": {},
   "source": [
    "### View mesh with PyVista\n",
    "\n",
    "To plot the mesh we need to transform the MeshioMesh to pyVista."
   ]
  },
  {
   "cell_type": "code",
   "execution_count": 5,
   "metadata": {},
   "outputs": [],
   "source": [
    "# import pyvista as pv\n",
    "# import numpy as np\n",
    "\n",
    "# def meshio_to_pyvista(mesh):\n",
    "#     points = mesh.points\n",
    "#     cells = []\n",
    "\n",
    "#     # Itera sobre las celdas de tipo tetraédrico\n",
    "#     for cell_block in mesh.cells_dict.values():\n",
    "#         for cell in cell_block:\n",
    "#             cells.append([4] + cell.tolist())\n",
    "                \n",
    "#     cells = np.array(cells)\n",
    "#     return pv.PolyData(points,cells)\n",
    "\n",
    "# pv_mesh = meshio_to_pyvista(mesh.mesh)\n",
    "# print(pv_mesh)\n",
    "# plotter = pv.Plotter()\n",
    "# plotter.add_mesh(pv_mesh, color=\"lightblue\", show_edges=True)\n",
    "# plotter.show()"
   ]
  },
  {
   "cell_type": "markdown",
   "metadata": {},
   "source": [
    "Prepare mesh for DolFinX"
   ]
  },
  {
   "cell_type": "code",
   "execution_count": 6,
   "metadata": {},
   "outputs": [],
   "source": [
    "from mpi4py import MPI\n",
    "\n",
    "import basix.ufl\n",
    "import dolfinx as dfx\n",
    "\n",
    "import ufl\n",
    "\n",
    "nodes = mesh.mesh.points\n",
    "connectivity = [i for i in mesh.mesh.cells_dict.values()][0]\n",
    "c_el = ufl.Mesh(basix.ufl.element(\"Lagrange\", \"tetrahedron\", 1, shape=(nodes.shape[1],)))\n",
    "domain = dfx.mesh.create_mesh(MPI.COMM_SELF, connectivity, nodes, c_el)\n"
   ]
  },
  {
   "cell_type": "markdown",
   "metadata": {},
   "source": [
    "We then create the mesh, which will consist of hexahedral elements, along with the function space.\n",
    "As we want a vector element with three compoenets, we add `(3, )` or `(domain.geometry.dim, )` to the element tuple to make it a triplet\n",
    "However, we also could have used `basix.ufl`s functionality, creating a vector element `element = basix.ufl.element(\"Lagrange\", domain.topology.cell_name(), 1, shape=(domain.geometry.dim,))`, and intitializing the function space as `V = dolfinx.fem.functionspace(domain, element)`."
   ]
  },
  {
   "cell_type": "code",
   "execution_count": 7,
   "metadata": {
    "tags": []
   },
   "outputs": [],
   "source": [
    "V = dfx.fem.functionspace(domain, (\"Lagrange\", 1, (domain.geometry.dim,)))"
   ]
  },
  {
   "cell_type": "markdown",
   "metadata": {},
   "source": [
    "## Boundary conditions\n",
    "As we would like to clamp the boundary at $x=0$, we do this by using a marker function, which locate the facets where $x$ is close to zero by machine precision."
   ]
  },
  {
   "cell_type": "code",
   "execution_count": 8,
   "metadata": {},
   "outputs": [],
   "source": [
    "import numpy as np\n",
    "\n",
    "def clamped_boundary(x):\n",
    "    return np.isclose(x[2], 0)\n",
    "\n",
    "\n",
    "fdim = domain.topology.dim - 1\n",
    "dim = domain.topology.dim\n",
    "boundary_facets = dfx.mesh.locate_entities_boundary(domain, fdim, clamped_boundary)\n",
    "\n",
    "u_D = np.array([0, 0, 0], dtype=dfx.default_scalar_type)\n",
    "bc = dfx.fem.dirichletbc(u_D, dfx.fem.locate_dofs_topological(V, fdim, boundary_facets), V)"
   ]
  },
  {
   "cell_type": "markdown",
   "metadata": {},
   "source": [
    "As we want the traction $T$ over the remaining boundary to be $0$, we create a `dolfinx.Constant`"
   ]
  },
  {
   "cell_type": "code",
   "execution_count": 9,
   "metadata": {},
   "outputs": [],
   "source": [
    "ds = ufl.Measure(\"ds\", domain=domain)"
   ]
  },
  {
   "cell_type": "markdown",
   "metadata": {},
   "source": [
    "## Variational formulation\n",
    "We are now ready to create our variational formulation in close to mathematical syntax, as for the previous problems."
   ]
  },
  {
   "cell_type": "code",
   "execution_count": 10,
   "metadata": {},
   "outputs": [],
   "source": [
    "E = dfx.fem.Constant(domain, 210e3)\n",
    "nu = dfx.fem.Constant(domain, 0.3)\n",
    "\n",
    "lmbda = E * nu / (1 + nu) / (1 - 2 * nu)\n",
    "mu = E / 2 / (1 + nu)\n",
    "\n",
    "\n",
    "def epsilon(v):\n",
    "    return ufl.sym(ufl.grad(v))\n",
    "\n",
    "\n",
    "def sigma(v):\n",
    "    return lmbda * ufl.tr(epsilon(v)) * ufl.Identity(dim) + 2 * mu * epsilon(v)\n",
    "\n",
    "u = ufl.TrialFunction(V)\n",
    "v = ufl.TestFunction(V)\n",
    "\n",
    "rho = 2e-3\n",
    "g = 9.81\n",
    "f = dfx.fem.Constant(domain, np.array([ -rho * g,0, 0]))\n",
    "\n",
    "dx = ufl.Measure(\"dx\", domain=domain)\n",
    "a = ufl.inner(sigma(u), epsilon(v)) * dx\n",
    "L = ufl.inner(f, v) * ds"
   ]
  },
  {
   "cell_type": "markdown",
   "metadata": {},
   "source": [
    "```{note}\n",
    "Note that we used `nabla_grad` and optionally `nabla_div` for the variational formulation, as oposed to our previous usage of\n",
    "`div` and `grad`. This is because for scalar functions $\\nabla u$ has a clear meaning\n",
    "$\\nabla u = \\left(\\frac{\\partial u}{\\partial x}, \\frac{\\partial u}{\\partial y}, \\frac{\\partial u}{\\partial z} \\right)$.\n",
    "\n",
    "However, if $u$ is vector valued, the meaning is less clear. Some sources define $\\nabla u$ as a matrix with the elements $\\frac{\\partial u_j}{\\partial x_i}$, while other  sources prefer\n",
    "$\\frac{\\partial u_i}{\\partial x_j}$. In DOLFINx `grad(u)` is defined as the matrix with elements $\\frac{\\partial u_i}{\\partial x_j}$. However, as it is common in continuum mechanics to use the other definition, `ufl` supplies us with `nabla_grad` for this purpose.\n",
    "```\n",
    "\n",
    "## Solve the linear variational problem\n",
    "As in the previous demos, we assemble the matrix and right hand side vector and use PETSc to solve our variational problem"
   ]
  },
  {
   "cell_type": "code",
   "execution_count": 11,
   "metadata": {},
   "outputs": [],
   "source": [
    "from dolfinx.fem.petsc import LinearProblem\n",
    "\n",
    "problem = LinearProblem(a, L, bcs=[bc], petsc_options={\"ksp_type\": \"preonly\", \"pc_type\": \"lu\"})\n",
    "uh = problem.solve()"
   ]
  },
  {
   "cell_type": "markdown",
   "metadata": {},
   "source": [
    "## Visualization"
   ]
  },
  {
   "cell_type": "markdown",
   "metadata": {},
   "source": [
    "As in the previous demos, we can either use Pyvista or Paraview for visualization. We start by using Pyvista. Instead of adding scalar values to the grid, we add vectors."
   ]
  },
  {
   "cell_type": "code",
   "execution_count": 12,
   "metadata": {},
   "outputs": [
    {
     "data": {
      "application/vnd.jupyter.widget-view+json": {
       "model_id": "de9c6376daed4cae9bda8499ca1b6185",
       "version_major": 2,
       "version_minor": 0
      },
      "text/plain": [
       "Widget(value='<iframe src=\"http://localhost:40297/index.html?ui=P_0x78e9afaa7dd0_0&reconnect=auto\" class=\"pyvi…"
      ]
     },
     "metadata": {},
     "output_type": "display_data"
    }
   ],
   "source": [
    "import pyvista as pv\n",
    "p = pv.Plotter()\n",
    "topology, cell_types, geometry = dfx.plot.vtk_mesh(V)\n",
    "grid = pv.UnstructuredGrid(topology, cell_types, geometry)\n",
    "\n",
    "grid[\"u\"] = uh.x.array.reshape((geometry.shape[0], 3))\n",
    "actor_0 = p.add_mesh(grid, style=\"wireframe\", color=\"k\")\n",
    "warped = grid.warp_by_vector(\"u\", factor=1.5)\n",
    "actor_1 = p.add_mesh(warped, show_edges=True)\n",
    "p.show_axes()\n",
    "p.show()"
   ]
  },
  {
   "cell_type": "markdown",
   "metadata": {},
   "source": [
    "We could also use Paraview for visualizing this.\n",
    "As explained in previous sections, we save the solution with `XDMFFile`.\n",
    "After opening the file `deformation.xdmf` in Paraview and pressing `Apply`, one can press the `Warp by vector button` ![Warp by vector](warp_by_vector.png) or go through the top menu (`Filters->Alphabetical->Warp by Vector`) and press `Apply`. We can also change the color of the deformed beam by changing the value in the color menu ![color](color.png) from `Solid Color` to `Deformation`."
   ]
  },
  {
   "cell_type": "code",
   "execution_count": 17,
   "metadata": {},
   "outputs": [],
   "source": [
    "with dfx.io.XDMFFile(domain.comm, \"deformation.xdmf\", \"w\") as xdmf:\n",
    "    xdmf.write_mesh(domain)\n",
    "    uh.name = \"Deformation\"\n",
    "    xdmf.write_function(uh)\n",
    "    \n",
    "with dfx.io.VTKFile(domain.comm, \"deformation.pvd\", \"w\") as xdmf:\n",
    "    xdmf.write_mesh(domain)\n",
    "    uh.name = \"Deformation\"\n",
    "    xdmf.write_function(uh)"
   ]
  },
  {
   "cell_type": "markdown",
   "metadata": {},
   "source": [
    "## Stress computation\n",
    "As soon as the displacement is computed, we can compute various stress measures. We will compute the von Mises stress defined as $\\sigma_m=\\sqrt{\\frac{3}{2}s:s}$ where $s$ is the deviatoric stress tensor $s(u)=\\sigma(u)-\\frac{1}{3}\\mathrm{tr}(\\sigma(u))I$."
   ]
  },
  {
   "cell_type": "code",
   "execution_count": 14,
   "metadata": {},
   "outputs": [],
   "source": [
    "s = sigma(uh) - 1.0 / 3 * ufl.tr(sigma(uh)) * ufl.Identity(len(uh))\n",
    "von_Mises = ufl.sqrt(3.0 / 2 * ufl.inner(s, s))"
   ]
  },
  {
   "cell_type": "markdown",
   "metadata": {},
   "source": [
    "The `von_Mises` variable is now an expression that must be projected into an appropriate function space so that we can visualize it. As `uh` is a linear combination of first order piecewise continuous functions, the von Mises stresses will be a cell-wise constant function."
   ]
  },
  {
   "cell_type": "code",
   "execution_count": 15,
   "metadata": {},
   "outputs": [],
   "source": [
    "V_von_mises = dfx.fem.functionspace(domain, (\"DG\", 0))\n",
    "stress_expr = dfx.fem.Expression(von_Mises, V_von_mises.element.interpolation_points())\n",
    "stresses = dfx.fem.Function(V_von_mises)\n",
    "stresses.interpolate(stress_expr)"
   ]
  },
  {
   "cell_type": "markdown",
   "metadata": {},
   "source": [
    "In the previous sections, we have only visualized first order Lagrangian functions. However, the Von Mises stresses are piecewise constant on each cell. Therefore, we modify our plotting routine slightly. The first thing we notice is that we  now set values for each cell, which has a one to one correspondence with the degrees of freedom in the function space."
   ]
  },
  {
   "cell_type": "code",
   "execution_count": 16,
   "metadata": {
    "tags": []
   },
   "outputs": [
    {
     "data": {
      "application/vnd.jupyter.widget-view+json": {
       "model_id": "233f7f11b4e7414896ee6ae8b8c20c87",
       "version_major": 2,
       "version_minor": 0
      },
      "text/plain": [
       "Widget(value='<iframe src=\"http://localhost:40297/index.html?ui=P_0x78e99a28f170_1&reconnect=auto\" class=\"pyvi…"
      ]
     },
     "metadata": {},
     "output_type": "display_data"
    }
   ],
   "source": [
    "warped.cell_data[\"VonMises\"] = stresses.x.petsc_vec.array\n",
    "warped.set_active_scalars(\"VonMises\")\n",
    "p = pv.Plotter()\n",
    "p.add_mesh(warped)\n",
    "p.show_axes()\n",
    "p.show()"
   ]
  },
  {
   "cell_type": "code",
   "execution_count": null,
   "metadata": {},
   "outputs": [],
   "source": []
  },
  {
   "cell_type": "code",
   "execution_count": null,
   "metadata": {},
   "outputs": [],
   "source": []
  },
  {
   "cell_type": "code",
   "execution_count": null,
   "metadata": {},
   "outputs": [],
   "source": []
  },
  {
   "cell_type": "code",
   "execution_count": null,
   "metadata": {},
   "outputs": [],
   "source": []
  },
  {
   "cell_type": "code",
   "execution_count": null,
   "metadata": {},
   "outputs": [],
   "source": []
  }
 ],
 "metadata": {
  "jupytext": {
   "formats": "ipynb,py:light"
  },
  "kernelspec": {
   "display_name": "dolfinx-env",
   "language": "python",
   "name": "python3"
  },
  "language_info": {
   "codemirror_mode": {
    "name": "ipython",
    "version": 3
   },
   "file_extension": ".py",
   "mimetype": "text/x-python",
   "name": "python",
   "nbconvert_exporter": "python",
   "pygments_lexer": "ipython3",
   "version": "3.12.3"
  }
 },
 "nbformat": 4,
 "nbformat_minor": 4
}
